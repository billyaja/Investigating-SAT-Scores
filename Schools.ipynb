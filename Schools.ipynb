{
  "cells": [
    {
      "cell_type": "markdown",
      "metadata": {
        "id": "view-in-github",
        "colab_type": "text"
      },
      "source": [
        "<a href=\"https://colab.research.google.com/github/billyaja/Investigating-SAT-Scores/blob/main/Schools.ipynb\" target=\"_parent\"><img src=\"https://colab.research.google.com/assets/colab-badge.svg\" alt=\"Open In Colab\"/></a>"
      ]
    },
    {
      "cell_type": "markdown",
      "metadata": {
        "id": "ogSORH_h94q0"
      },
      "source": [
        "the SAT, or Scholastic Aptitude Test, is a test that high school seniors in the U.S. take every year. The SAT has three sections, each is worth 800 points. Colleges use the SAT to determine which students to admit. High average SAT scores are usually indicative of a good school."
      ]
    },
    {
      "cell_type": "markdown",
      "metadata": {
        "id": "4ca0BEQ094q8"
      },
      "source": [
        "# Read in the data"
      ]
    },
    {
      "cell_type": "code",
      "execution_count": null,
      "metadata": {
        "id": "CIlGTYkr94q-"
      },
      "outputs": [],
      "source": [
        "import matplotlib.pyplot as plt"
      ]
    },
    {
      "cell_type": "code",
      "execution_count": null,
      "metadata": {
        "id": "JLCoNPSg94rB"
      },
      "outputs": [],
      "source": [
        "import pandas as pd\n",
        "import numpy\n",
        "import re\n",
        "\n",
        "data_files = [\n",
        "    \"ap_2010.csv\",\n",
        "    \"class_size.csv\",\n",
        "    \"demographics.csv\",\n",
        "    \"graduation.csv\",\n",
        "    \"hs_directory.csv\",\n",
        "    \"sat_results.csv\"\n",
        "]\n",
        "\n",
        "data = {}\n",
        "\n",
        "for f in data_files:\n",
        "    d = pd.read_csv(\"schools/{0}\".format(f))\n",
        "    data[f.replace(\".csv\", \"\")] = d"
      ]
    },
    {
      "cell_type": "markdown",
      "metadata": {
        "id": "o3hDdLzR94rE"
      },
      "source": [
        "# Read in the surveys"
      ]
    },
    {
      "cell_type": "code",
      "execution_count": null,
      "metadata": {
        "colab": {
          "base_uri": "https://localhost:8080/"
        },
        "id": "iIdnFoiz94rF",
        "outputId": "5f2b8d04-3b9f-4ad1-e115-68d25a054d6d"
      },
      "outputs": [
        {
          "output_type": "stream",
          "name": "stderr",
          "text": [
            "<ipython-input-3-630d40a9059d>:5: PerformanceWarning: DataFrame is highly fragmented.  This is usually the result of calling `frame.insert` many times, which has poor performance.  Consider joining all columns at once using pd.concat(axis=1) instead.  To get a de-fragmented frame, use `newframe = frame.copy()`\n",
            "  survey[\"DBN\"] = survey[\"dbn\"]\n"
          ]
        }
      ],
      "source": [
        "all_survey = pd.read_csv(\"schools/survey_all.txt\", delimiter=\"\\t\", encoding='windows-1252')\n",
        "d75_survey = pd.read_csv(\"schools/survey_d75.txt\", delimiter=\"\\t\", encoding='windows-1252')\n",
        "survey = pd.concat([all_survey, d75_survey], axis=0)\n",
        "\n",
        "survey[\"DBN\"] = survey[\"dbn\"]\n",
        "\n",
        "survey_fields = [\n",
        "    \"DBN\", \n",
        "    \"rr_s\", \n",
        "    \"rr_t\", \n",
        "    \"rr_p\", \n",
        "    \"N_s\", \n",
        "    \"N_t\", \n",
        "    \"N_p\", \n",
        "    \"saf_p_11\", \n",
        "    \"com_p_11\", \n",
        "    \"eng_p_11\", \n",
        "    \"aca_p_11\", \n",
        "    \"saf_t_11\", \n",
        "    \"com_t_11\", \n",
        "    \"eng_t_11\", \n",
        "    \"aca_t_11\", \n",
        "    \"saf_s_11\", \n",
        "    \"com_s_11\", \n",
        "    \"eng_s_11\", \n",
        "    \"aca_s_11\", \n",
        "    \"saf_tot_11\", \n",
        "    \"com_tot_11\", \n",
        "    \"eng_tot_11\", \n",
        "    \"aca_tot_11\",\n",
        "]\n",
        "survey = survey.loc[:,survey_fields]\n",
        "data[\"survey\"] = survey"
      ]
    },
    {
      "cell_type": "markdown",
      "metadata": {
        "id": "f9sICmm994rH"
      },
      "source": [
        "# Add DBN columns"
      ]
    },
    {
      "cell_type": "code",
      "execution_count": null,
      "metadata": {
        "id": "5EmAjok894rI"
      },
      "outputs": [],
      "source": [
        "data[\"hs_directory\"][\"DBN\"] = data[\"hs_directory\"][\"dbn\"]\n",
        "\n",
        "def pad_csd(num):\n",
        "    string_representation = str(num)\n",
        "    if len(string_representation) > 1:\n",
        "        return string_representation\n",
        "    else:\n",
        "        return \"0\" + string_representation\n",
        "    \n",
        "data[\"class_size\"][\"padded_csd\"] = data[\"class_size\"][\"CSD\"].apply(pad_csd)\n",
        "data[\"class_size\"][\"DBN\"] = data[\"class_size\"][\"padded_csd\"] + data[\"class_size\"][\"SCHOOL CODE\"]"
      ]
    },
    {
      "cell_type": "markdown",
      "metadata": {
        "id": "SHFwnvEn94rK"
      },
      "source": [
        "# Convert columns to numeric"
      ]
    },
    {
      "cell_type": "code",
      "execution_count": null,
      "metadata": {
        "id": "5dB6Li0394rL"
      },
      "outputs": [],
      "source": [
        "cols = ['SAT Math Avg. Score', 'SAT Critical Reading Avg. Score', 'SAT Writing Avg. Score']\n",
        "for c in cols:\n",
        "    data[\"sat_results\"][c] = pd.to_numeric(data[\"sat_results\"][c], errors=\"coerce\")\n",
        "\n",
        "data['sat_results']['sat_score'] = data['sat_results'][cols[0]] + data['sat_results'][cols[1]] + data['sat_results'][cols[2]]\n",
        "\n",
        "def find_lat(loc):\n",
        "    coords = re.findall(\"\\(.+, .+\\)\", loc)\n",
        "    lat = coords[0].split(\",\")[0].replace(\"(\", \"\")\n",
        "    return lat\n",
        "\n",
        "def find_lon(loc):\n",
        "    coords = re.findall(\"\\(.+, .+\\)\", loc)\n",
        "    lon = coords[0].split(\",\")[1].replace(\")\", \"\").strip()\n",
        "    return lon\n",
        "\n",
        "data[\"hs_directory\"][\"lat\"] = data[\"hs_directory\"][\"Location 1\"].apply(find_lat)\n",
        "data[\"hs_directory\"][\"lon\"] = data[\"hs_directory\"][\"Location 1\"].apply(find_lon)\n",
        "\n",
        "data[\"hs_directory\"][\"lat\"] = pd.to_numeric(data[\"hs_directory\"][\"lat\"], errors=\"coerce\")\n",
        "data[\"hs_directory\"][\"lon\"] = pd.to_numeric(data[\"hs_directory\"][\"lon\"], errors=\"coerce\")"
      ]
    },
    {
      "cell_type": "markdown",
      "metadata": {
        "id": "lfpG31IG94rM"
      },
      "source": [
        "# Condense datasets"
      ]
    },
    {
      "cell_type": "code",
      "execution_count": null,
      "metadata": {
        "id": "tr3bLaB894rN"
      },
      "outputs": [],
      "source": [
        "class_size = data[\"class_size\"]\n",
        "class_size = class_size[class_size[\"GRADE \"] == \"09-12\"]\n",
        "class_size = class_size[class_size[\"PROGRAM TYPE\"] == \"GEN ED\"]\n",
        "\n",
        "class_size = class_size.groupby(\"DBN\").agg(numpy.mean)\n",
        "class_size.reset_index(inplace=True)\n",
        "data[\"class_size\"] = class_size\n",
        "\n",
        "data[\"demographics\"] = data[\"demographics\"][data[\"demographics\"][\"schoolyear\"] == 20112012]\n",
        "\n",
        "data[\"graduation\"] = data[\"graduation\"][data[\"graduation\"][\"Cohort\"] == \"2006\"]\n",
        "data[\"graduation\"] = data[\"graduation\"][data[\"graduation\"][\"Demographic\"] == \"Total Cohort\"]"
      ]
    },
    {
      "cell_type": "markdown",
      "metadata": {
        "id": "WWfWJUD994rP"
      },
      "source": [
        "# Convert AP scores to numeric"
      ]
    },
    {
      "cell_type": "code",
      "execution_count": null,
      "metadata": {
        "id": "5ifPYCea94rQ"
      },
      "outputs": [],
      "source": [
        "cols = ['AP Test Takers ', 'Total Exams Taken', 'Number of Exams with scores 3 4 or 5']\n",
        "\n",
        "for col in cols:\n",
        "    data[\"ap_2010\"][col] = pd.to_numeric(data[\"ap_2010\"][col], errors=\"coerce\")"
      ]
    },
    {
      "cell_type": "markdown",
      "metadata": {
        "id": "9IGWfn1394rR"
      },
      "source": [
        "# Combine the datasets"
      ]
    },
    {
      "cell_type": "code",
      "execution_count": null,
      "metadata": {
        "colab": {
          "base_uri": "https://localhost:8080/"
        },
        "id": "idIWBNuT94rR",
        "outputId": "74a7b75d-54ae-4576-f4a0-234684badfed"
      },
      "outputs": [
        {
          "output_type": "stream",
          "name": "stderr",
          "text": [
            "<ipython-input-8-8b9a77ecc7f2>:11: FutureWarning: Dropping of nuisance columns in DataFrame reductions (with 'numeric_only=None') is deprecated; in a future version this will raise TypeError.  Select only valid columns before calling the reduction.\n",
            "  combined = combined.fillna(combined.mean())\n"
          ]
        }
      ],
      "source": [
        "combined = data[\"sat_results\"]\n",
        "\n",
        "combined = combined.merge(data[\"ap_2010\"], on=\"DBN\", how=\"left\")\n",
        "combined = combined.merge(data[\"graduation\"], on=\"DBN\", how=\"left\")\n",
        "\n",
        "to_merge = [\"class_size\", \"demographics\", \"survey\", \"hs_directory\"]\n",
        "\n",
        "for m in to_merge:\n",
        "    combined = combined.merge(data[m], on=\"DBN\", how=\"inner\")\n",
        "\n",
        "combined = combined.fillna(combined.mean())\n",
        "combined = combined.fillna(0)"
      ]
    },
    {
      "cell_type": "markdown",
      "metadata": {
        "id": "gtEgJbvI94rS"
      },
      "source": [
        "# Add a school district column for mapping"
      ]
    },
    {
      "cell_type": "code",
      "execution_count": null,
      "metadata": {
        "id": "mxCv3YBd94rT"
      },
      "outputs": [],
      "source": [
        "def get_first_two_chars(dbn):\n",
        "    return dbn[0:2]\n",
        "\n",
        "combined[\"school_dist\"] = combined[\"DBN\"].apply(get_first_two_chars)"
      ]
    },
    {
      "cell_type": "markdown",
      "metadata": {
        "id": "Ms1WwH0F94rT"
      },
      "source": [
        "# Find correlations"
      ]
    },
    {
      "cell_type": "code",
      "execution_count": null,
      "metadata": {
        "colab": {
          "base_uri": "https://localhost:8080/"
        },
        "id": "gz3SAsn294rU",
        "outputId": "7ac7e7ec-3956-4107-d25e-f1f0df00f602"
      },
      "outputs": [
        {
          "output_type": "stream",
          "name": "stdout",
          "text": [
            "SAT Critical Reading Avg. Score    0.987051\n",
            "SAT Math Avg. Score                0.973412\n",
            "SAT Writing Avg. Score             0.987542\n",
            "sat_score                          1.000000\n",
            "AP Test Takers                     0.520593\n",
            "                                     ...   \n",
            "priority08                              NaN\n",
            "priority09                              NaN\n",
            "priority10                              NaN\n",
            "lat                               -0.085032\n",
            "lon                               -0.071170\n",
            "Name: sat_score, Length: 67, dtype: float64\n"
          ]
        }
      ],
      "source": [
        "correlations = combined.corr()\n",
        "correlations = correlations[\"sat_score\"]\n",
        "print(correlations)"
      ]
    },
    {
      "cell_type": "markdown",
      "metadata": {
        "id": "ekGdxvrk94rW"
      },
      "source": [
        "# Plotting survey correlations"
      ]
    },
    {
      "cell_type": "code",
      "execution_count": null,
      "metadata": {
        "id": "RKVoGi7n94rW"
      },
      "outputs": [],
      "source": [
        "# Remove DBN since it's a unique identifier, not a useful numerical value for correlation.\n",
        "survey_fields.remove(\"DBN\")"
      ]
    },
    {
      "cell_type": "code",
      "execution_count": null,
      "metadata": {
        "colab": {
          "base_uri": "https://localhost:8080/",
          "height": 283
        },
        "id": "3hAp_2ti94rX",
        "outputId": "42d16049-5d2d-4043-f444-7dfd774eb6d0"
      },
      "outputs": [
        {
          "output_type": "execute_result",
          "data": {
            "text/plain": [
              "<matplotlib.axes._subplots.AxesSubplot at 0x7f9180c77730>"
            ]
          },
          "metadata": {},
          "execution_count": 12
        },
        {
          "output_type": "display_data",
          "data": {
            "text/plain": [
              "<Figure size 432x288 with 1 Axes>"
            ],
            "image/png": "[encoded data removed]"
          },
          "metadata": {
            "needs_background": "light"
          }
        }
      ],
      "source": [
        "%matplotlib inline\n",
        "pd.concat([combined[survey_fields], combined['sat_score']], axis=1).corr()['sat_score'].sort_values()[:-1].plot(kind='barh')"
      ]
    },
    {
      "cell_type": "markdown",
      "metadata": {
        "id": "QipAE7Qj94rY"
      },
      "source": [
        "We see that `aca_s_11` and `saf_s_11` have a high correlation with sat_score. In the data dictionary, `aca_s_11` is academic expectations score based on student responses. It is surprising to find that `saf_s_11`, safety and respect score based on student responses, has a strong correlation with sat_score. We will dig a bit more into this relationship."
      ]
    },
    {
      "cell_type": "markdown",
      "metadata": {
        "id": "yhkM2aSE94rY"
      },
      "source": [
        "## Exploring Safety and SAT Scores"
      ]
    },
    {
      "cell_type": "code",
      "execution_count": null,
      "metadata": {
        "colab": {
          "base_uri": "https://localhost:8080/",
          "height": 298
        },
        "id": "onudPJQ394rZ",
        "outputId": "15218a37-a09f-49b8-c16a-9cacc91b852a"
      },
      "outputs": [
        {
          "output_type": "execute_result",
          "data": {
            "text/plain": [
              "<matplotlib.axes._subplots.AxesSubplot at 0x7f91813cab50>"
            ]
          },
          "metadata": {},
          "execution_count": 13
        },
        {
          "output_type": "display_data",
          "data": {
            "text/plain": [
              "<Figure size 432x288 with 1 Axes>"
            ],
            "image/png": "[encoded data removed]"
          },
          "metadata": {
            "needs_background": "light"
          }
        }
      ],
      "source": [
        "combined.plot.scatter(x='saf_s_11', y='sat_score')"
      ]
    },
    {
      "cell_type": "markdown",
      "metadata": {
        "id": "J7UoZoOf94rZ"
      },
      "source": [
        "We can see that safety score above 7 has a positive correlation with SAT_score but not really that strong. It seems that there are few schools with high safety scores that have high SAT scores and few schools with low safety scores have low SAT scores. There are no schools with a safety score below 6.5 that have an SAT score greater than 1500."
      ]
    },
    {
      "cell_type": "code",
      "execution_count": null,
      "metadata": {
        "scrolled": false,
        "colab": {
          "base_uri": "https://localhost:8080/"
        },
        "id": "m9N-K5DF94ra",
        "outputId": "aed99b53-b3c0-4918-8409-5845b44993dd"
      },
      "outputs": [
        {
          "output_type": "execute_result",
          "data": {
            "text/plain": [
              "boro\n",
              "Manhattan    6.831209\n",
              "Queens       6.688525\n",
              "Bronx        6.606499\n",
              "Brooklyn     6.347000\n",
              "Name: saf_s_11, dtype: float64"
            ]
          },
          "metadata": {},
          "execution_count": 14
        }
      ],
      "source": [
        "combined.groupby('boro').mean()['saf_s_11'].sort_values(ascending=False)"
      ]
    },
    {
      "cell_type": "markdown",
      "metadata": {
        "id": "E6LGvx7894rb"
      },
      "source": [
        "Manhattan and Queens tend to have higher safety scores."
      ]
    },
    {
      "cell_type": "markdown",
      "metadata": {
        "id": "MCmn4FKv94rb"
      },
      "source": [
        "## Exploring Race and SAT Scores"
      ]
    },
    {
      "cell_type": "code",
      "execution_count": null,
      "metadata": {
        "colab": {
          "base_uri": "https://localhost:8080/",
          "height": 283
        },
        "id": "W1YYKiLd94rb",
        "outputId": "5a9d1651-5339-4e5c-c12a-59b97b045c1d"
      },
      "outputs": [
        {
          "output_type": "execute_result",
          "data": {
            "text/plain": [
              "<matplotlib.axes._subplots.AxesSubplot at 0x7f9180c1ee80>"
            ]
          },
          "metadata": {},
          "execution_count": 15
        },
        {
          "output_type": "display_data",
          "data": {
            "text/plain": [
              "<Figure size 432x288 with 1 Axes>"
            ],
            "image/png": "[encoded data removed]"
          },
          "metadata": {
            "needs_background": "light"
          }
        }
      ],
      "source": [
        "races_with_sat = ['white_per', 'asian_per', 'black_per', 'hispanic_per', 'sat_score']\n",
        "combined[races_with_sat].corr()['sat_score'].sort_values()[:-1].plot(kind='barh')"
      ]
    },
    {
      "cell_type": "markdown",
      "metadata": {
        "id": "PmHRtwwL94rc"
      },
      "source": [
        "White people tend to have higher SAT scores than Asians, which is perhaps to be expected. It is surprising to see that Hispanics have lower SAT scores than blacks. We will explore more about the relationship between Hispanic race and SAT score by scatter plot."
      ]
    },
    {
      "cell_type": "code",
      "execution_count": null,
      "metadata": {
        "colab": {
          "base_uri": "https://localhost:8080/",
          "height": 298
        },
        "id": "5238akrL94rc",
        "outputId": "0cd8ca7f-0185-4da1-fa48-a01fd49f29ae"
      },
      "outputs": [
        {
          "output_type": "execute_result",
          "data": {
            "text/plain": [
              "<matplotlib.axes._subplots.AxesSubplot at 0x7f9180f5a550>"
            ]
          },
          "metadata": {},
          "execution_count": 16
        },
        {
          "output_type": "display_data",
          "data": {
            "text/plain": [
              "<Figure size 432x288 with 1 Axes>"
            ],
            "image/png": "[encoded data removed]"
          },
          "metadata": {
            "needs_background": "light"
          }
        }
      ],
      "source": [
        "combined.plot.scatter(x='hispanic_per', y='sat_score')"
      ]
    },
    {
      "cell_type": "markdown",
      "metadata": {
        "id": "C-OBUdZY94rd"
      },
      "source": [
        "Hispanic percentage negatively correlated with SAT score, in other words schools that have a high percentage of Hispanic tend to have lower SAT scores. Now, I will try to research schools that have greater than 95% Hispanic students."
      ]
    },
    {
      "cell_type": "code",
      "execution_count": null,
      "metadata": {
        "colab": {
          "base_uri": "https://localhost:8080/"
        },
        "id": "EV2zHbI994rd",
        "outputId": "4f683269-7c83-4692-b2c4-5d1c47c5c56d"
      },
      "outputs": [
        {
          "output_type": "execute_result",
          "data": {
            "text/plain": [
              "253                            MULTICULTURAL HIGH SCHOOL\n",
              "141                INTERNATIONAL SCHOOL FOR LIBERAL ARTS\n",
              "125                  ACADEMY FOR LANGUAGE AND TECHNOLOGY\n",
              "286               PAN AMERICAN INTERNATIONAL HIGH SCHOOL\n",
              "176     PAN AMERICAN INTERNATIONAL HIGH SCHOOL AT MONROE\n",
              "89     GREGORIO LUPERON HIGH SCHOOL FOR SCIENCE AND M...\n",
              "44                         MANHATTAN BRIDGES HIGH SCHOOL\n",
              "82      WASHINGTON HEIGHTS EXPEDITIONARY LEARNING SCHOOL\n",
              "Name: SCHOOL NAME, dtype: object"
            ]
          },
          "metadata": {},
          "execution_count": 17
        }
      ],
      "source": [
        "combined[combined['hispanic_per'] > 95].sort_values(by='sat_score')['SCHOOL NAME']"
      ]
    },
    {
      "cell_type": "markdown",
      "metadata": {
        "id": "K7iTnQIF94re"
      },
      "source": [
        "Taking a look at Google, these schools are primarily for people who are new immigrants. The schools focus on helping students learn English, which is why they tend to have lower SAT scores. Now, we will try to find schools that have less than 10% Hispanic students. "
      ]
    },
    {
      "cell_type": "code",
      "execution_count": null,
      "metadata": {
        "colab": {
          "base_uri": "https://localhost:8080/"
        },
        "id": "L3PixZVX94rf",
        "outputId": "7478756f-8cbc-461c-add0-a00384778eb4"
      },
      "outputs": [
        {
          "output_type": "execute_result",
          "data": {
            "text/plain": [
              "37                                STUYVESANT HIGH SCHOOL\n",
              "151                         BRONX HIGH SCHOOL OF SCIENCE\n",
              "327    QUEENS HIGH SCHOOL FOR THE SCIENCES AT YORK CO...\n",
              "187                       BROOKLYN TECHNICAL HIGH SCHOOL\n",
              "235              MEDGAR EVERS COLLEGE PREPARATORY SCHOOL\n",
              "46       HIGH SCHOOL FOR DUAL LANGUAGE AND ASIAN STUDIES\n",
              "194                            BENJAMIN BANNEKER ACADEMY\n",
              "231    SCIENCE, TECHNOLOGY AND RESEARCH EARLY COLLEGE...\n",
              "192                          BEDFORD ACADEMY HIGH SCHOOL\n",
              "236                             CLARA BARTON HIGH SCHOOL\n",
              "335                              CAMBRIA HEIGHTS ACADEMY\n",
              "332                    EXCELSIOR PREPARATORY HIGH SCHOOL\n",
              "280          BROOKLYN COLLEGIATE: A COLLEGE BOARD SCHOOL\n",
              "226               THE HIGH SCHOOL FOR GLOBAL CITIZENSHIP\n",
              "331    PATHWAYS COLLEGE PREPARATORY SCHOOL: A COLLEGE...\n",
              "228                  SCHOOL FOR DEMOCRACY AND LEADERSHIP\n",
              "337                 HUMANITIES & ARTS MAGNET HIGH SCHOOL\n",
              "238                           BROOKLYN GENERATION SCHOOL\n",
              "241                       VICTORY COLLEGIATE HIGH SCHOOL\n",
              "223    ACADEMY FOR COLLEGE PREPARATION AND CAREER EXP...\n",
              "230        HIGH SCHOOL FOR SERVICE & LEARNING AT ERASMUS\n",
              "330                           QUEENS PREPARATORY ACADEMY\n",
              "220                           BOYS AND GIRLS HIGH SCHOOL\n",
              "240              KURT HAHN EXPEDITIONARY LEARNING SCHOOL\n",
              "227                         SCHOOL FOR HUMAN RIGHTS, THE\n",
              "242                     ARTS & MEDIA PREPARATORY ACADEMY\n",
              "229    HIGH SCHOOL FOR YOUTH AND COMMUNITY DEVELOPMEN...\n",
              "237                           IT TAKES A VILLAGE ACADEMY\n",
              "Name: SCHOOL NAME, dtype: object"
            ]
          },
          "metadata": {},
          "execution_count": 18
        }
      ],
      "source": [
        "combined[combined['hispanic_per'] < 10].sort_values(by='sat_score', ascending=False)['SCHOOL NAME']"
      ]
    },
    {
      "cell_type": "markdown",
      "metadata": {
        "id": "2NE9GeW094rh"
      },
      "source": [
        "Many of the schools appeared to specialize in science and technology. These schools appear to have received extra funding."
      ]
    },
    {
      "cell_type": "markdown",
      "metadata": {
        "id": "MOZqzx8a94rh"
      },
      "source": [
        "## Gender and SAT Scores"
      ]
    },
    {
      "cell_type": "code",
      "execution_count": null,
      "metadata": {
        "colab": {
          "base_uri": "https://localhost:8080/",
          "height": 284
        },
        "id": "II3WFxL-94rh",
        "outputId": "9648200e-ebb6-46ca-ca3e-c706d14c9b3c"
      },
      "outputs": [
        {
          "output_type": "execute_result",
          "data": {
            "text/plain": [
              "(array([0, 1]), <a list of 2 Text major ticklabel objects>)"
            ]
          },
          "metadata": {},
          "execution_count": 20
        },
        {
          "output_type": "display_data",
          "data": {
            "text/plain": [
              "<Figure size 432x288 with 1 Axes>"
            ],
            "image/png": "[encoded data removed]"
          },
          "metadata": {
            "needs_background": "light"
          }
        }
      ],
      "source": [
        "combined.corr()['sat_score'][['male_per', 'female_per']].plot(kind='bar')\n",
        "plt.grid(True)\n",
        "plt.xticks(rotation=0)"
      ]
    },
    {
      "cell_type": "markdown",
      "metadata": {
        "id": "RLMp6e5j94ri"
      },
      "source": [
        "It is surprising that the male percentage negatively correlated with SAT scores. Instead, female percentage positively correlated with SAT scores, exactly opposite of male percentage. \n",
        "We will dig more about the female percentage."
      ]
    },
    {
      "cell_type": "code",
      "source": [
        "combined.plot.scatter('female_per', 'sat_score')\n",
        "plt.grid(True)\n",
        "plt.show()"
      ],
      "metadata": {
        "colab": {
          "base_uri": "https://localhost:8080/",
          "height": 280
        },
        "id": "boNObz58JIad",
        "outputId": "88523e87-5b8a-4d0f-a794-1274a75b62bb"
      },
      "execution_count": null,
      "outputs": [
        {
          "output_type": "display_data",
          "data": {
            "text/plain": [
              "<Figure size 432x288 with 1 Axes>"
            ],
            "image/png": "[encoded data removed]"
          },
          "metadata": {
            "needs_background": "light"
          }
        }
      ]
    },
    {
      "cell_type": "markdown",
      "source": [
        "There seems no correlation between female percentage and SAT scores, however there is a cluster of schools with majority female (60, 80) have high SAT scores."
      ],
      "metadata": {
        "id": "HjgSjgO9NZRg"
      }
    },
    {
      "cell_type": "code",
      "source": [
        "combined[(combined['female_per'] > 60) & (combined['sat_score'] > 1700)].sort_values(by='sat_score', ascending=False)['SCHOOL NAME']"
      ],
      "metadata": {
        "colab": {
          "base_uri": "https://localhost:8080/"
        },
        "id": "jWKp52IfJCzR",
        "outputId": "b647e014-4a92-408a-a152-85fc871e9f35"
      },
      "execution_count": null,
      "outputs": [
        {
          "output_type": "execute_result",
          "data": {
            "text/plain": [
              "302                          TOWNSEND HARRIS HIGH SCHOOL\n",
              "5                         BARD HIGH SCHOOL EARLY COLLEGE\n",
              "26                         ELEANOR ROOSEVELT HIGH SCHOOL\n",
              "60                                    BEACON HIGH SCHOOL\n",
              "61     FIORELLO H. LAGUARDIA HIGH SCHOOL OF MUSIC & A...\n",
              "Name: SCHOOL NAME, dtype: object"
            ]
          },
          "metadata": {},
          "execution_count": 32
        }
      ]
    },
    {
      "cell_type": "markdown",
      "source": [
        "Taking a look at Wikipedia, these schools appear to be competitive schools with high academic standards."
      ],
      "metadata": {
        "id": "JHSvqB8rR6af"
      }
    },
    {
      "cell_type": "markdown",
      "source": [
        "## AP Scores vs. SAT scores"
      ],
      "metadata": {
        "id": "57OkO8beS_py"
      }
    },
    {
      "cell_type": "code",
      "source": [
        "combined['ap_per'] = combined['AP Test Takers '] / combined['total_enrollment']"
      ],
      "metadata": {
        "id": "2X6OP1GUTFUM"
      },
      "execution_count": null,
      "outputs": []
    },
    {
      "cell_type": "code",
      "source": [
        "combined.plot.scatter('ap_per', 'sat_score')\n",
        "plt.show()"
      ],
      "metadata": {
        "colab": {
          "base_uri": "https://localhost:8080/",
          "height": 279
        },
        "id": "GqGLm48LU5UN",
        "outputId": "827cb707-fd8a-4775-a5fc-9c792d85db85"
      },
      "execution_count": null,
      "outputs": [
        {
          "output_type": "display_data",
          "data": {
            "text/plain": [
              "<Figure size 432x288 with 1 Axes>"
            ],
            "image/png": "[encoded data removed]"
          },
          "metadata": {
            "needs_background": "light"
          }
        }
      ]
    },
    {
      "cell_type": "markdown",
      "source": [
        "There is a weak correlation between SAT scores and ap_per."
      ],
      "metadata": {
        "id": "Ria6hKvwXQ6Q"
      }
    }
  ],
  "metadata": {
    "kernelspec": {
      "display_name": "Python 3",
      "language": "python",
      "name": "python3"
    },
    "language_info": {
      "codemirror_mode": {
        "name": "ipython",
        "version": 3
      },
      "file_extension": ".py",
      "mimetype": "text/x-python",
      "name": "python",
      "nbconvert_exporter": "python",
      "pygments_lexer": "ipython3",
      "version": "3.8.2"
    },
    "colab": {
      "provenance": [],
      "include_colab_link": true
    }
  },
  "nbformat": 4,
  "nbformat_minor": 0
}